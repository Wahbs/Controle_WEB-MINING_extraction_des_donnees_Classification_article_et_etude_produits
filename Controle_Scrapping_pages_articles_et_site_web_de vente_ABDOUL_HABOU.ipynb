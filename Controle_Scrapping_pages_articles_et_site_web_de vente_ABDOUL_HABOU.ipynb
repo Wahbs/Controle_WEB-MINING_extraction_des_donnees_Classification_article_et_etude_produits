{
 "cells": [
  {
   "cell_type": "markdown",
   "id": "407c3855",
   "metadata": {},
   "source": [
    "## CONTROLE CONTINU WEB MINING : ABDOUL HABOU 21D0470EP"
   ]
  },
  {
   "cell_type": "code",
   "execution_count": 1,
   "id": "478b14a9",
   "metadata": {},
   "outputs": [],
   "source": [
    "# import des librairies dont nous aurons besoin\n",
    "import bs4\n",
    "from urllib import request\n",
    "import requests\n",
    "import os\n",
    "import pandas as pd\n",
    "import random\n",
    "import warnings\n",
    "warnings.filterwarnings(\"ignore\")\n",
    "\n",
    "import matplotlib.pyplot as plt"
   ]
  },
  {
   "cell_type": "markdown",
   "id": "8b3c9811",
   "metadata": {},
   "source": [
    "## EXERCICE 1"
   ]
  },
  {
   "cell_type": "markdown",
   "id": "7785179f",
   "metadata": {},
   "source": [
    "### Recuperation des données d'articles à partir du web"
   ]
  },
  {
   "cell_type": "code",
   "execution_count": 40,
   "id": "c126066e",
   "metadata": {},
   "outputs": [
    {
     "name": "stdout",
     "output_type": "stream",
     "text": [
      "                                                Titre  \\\n",
      "0   Le rendez-vous manqué d’Antony Blinken avec Er...   \n",
      "1           L’empire de Donald Trump devant les juges   \n",
      "2   L’Ukraine dans l’impasse après l’échec de la c...   \n",
      "3   «Premier combat spatial» : Israël aurait inter...   \n",
      "4   Le Chili peine à réformer la Constitution de P...   \n",
      "..                                                ...   \n",
      "59  Les États-Unis peuvent-ils (encore) échapper a...   \n",
      "60  Guerre Israël-Hamas : Macron annonce une «conf...   \n",
      "61  Conflit Hamas-Israël: des milliers de travaill...   \n",
      "62    Giorgia Meloni veut changer de régime en Italie   \n",
      "63  États-Unis: les démocrates s’inquiètent de la ...   \n",
      "\n",
      "                                          Description  \n",
      "0   Désapprouvant le soutien de Washington à Israë...  \n",
      "1   RÉCIT - L’ex-président est dopé dans les sonda...  \n",
      "2   ANALYSE - À Kiev, les autorités se préparent à...  \n",
      "3   Un missile balistique Qader tiré par les rebel...  \n",
      "4   DÉCRYPTAGE - Soumis à référendum le 17 décembr...  \n",
      "..                                                ...  \n",
      "59  RÉCIT - La route vers l’élection de 2024, inéd...  \n",
      "60  «Nous appelons à cette trêve humanitaire parce...  \n",
      "61  REPORTAGE - L’État hébreu a explusé vers Gaza,...  \n",
      "62  DÉCRYPTAGE - Sa réforme constitutionnelle, pré...  \n",
      "63  ANALYSE - À 80 ans, le président américain a o...  \n",
      "\n",
      "[64 rows x 2 columns]\n"
     ]
    }
   ],
   "source": [
    "url = \"https://www.lefigaro.fr/international\"\n",
    "response = requests.get(url)\n",
    "# Parsing et preformatage de la page html\n",
    "page = bs4.BeautifulSoup(response.content, \"html.parser\")\n",
    "titres = []\n",
    "descriptions = []\n",
    "# Récuperation des des differents articles du site\n",
    "blocs_articles = page.find_all(\"article\", class_=\"fig-ranking-profile-container\")\n",
    "for bloc in blocs_articles:\n",
    "    #Recuperation des titres et descriptions de chaque article\n",
    "    titre = bloc.find(\"a\", class_=\"fig-ranking-profile-link\").text.strip()\n",
    "    description_element = bloc.find(\"p\", class_=\"fig-ranking-profile-standfirst\")\n",
    "    if description_element:\n",
    "        description = description_element.text.strip()\n",
    "        titre = titre.replace('israëlhamas', 'israël hamas')\n",
    "        description = description.replace('israëlhamas', 'israël hamas')\n",
    "        titres.append(titre)\n",
    "        descriptions.append(description)\n",
    "#Sauvegarde des articles dans un dataframe\n",
    "articles = pd.DataFrame({\"Titre\": titres, \"Description\": descriptions})\n",
    "print(articles)"
   ]
  },
  {
   "cell_type": "code",
   "execution_count": 47,
   "id": "1efeb9fb",
   "metadata": {
    "scrolled": true
   },
   "outputs": [],
   "source": [
    "articles.to_csv(\"article_extraits.csv\")"
   ]
  },
  {
   "cell_type": "code",
   "execution_count": 52,
   "id": "4f235438",
   "metadata": {},
   "outputs": [],
   "source": [
    "import pandas as pd\n",
    "import re\n",
    "from nltk.tokenize import word_tokenize\n",
    "from nltk.probability import FreqDist\n",
    "from nltk.corpus import stopwords\n",
    "\n",
    "# Charger le fichier CSV dans un DataFrame\n",
    "donnees_article = pd.read_csv('article_extraits.csv')\n",
    "\n",
    "# Supprimer une colonne spécifique\n",
    "donnees_article = donnees_article.drop('Unnamed: 0', axis=1)\n"
   ]
  },
  {
   "cell_type": "markdown",
   "id": "bf1cb136",
   "metadata": {},
   "source": [
    "### Prétraitement des titres et des descriptions"
   ]
  },
  {
   "cell_type": "code",
   "execution_count": 53,
   "id": "8cec87de",
   "metadata": {},
   "outputs": [
    {
     "name": "stdout",
     "output_type": "stream",
     "text": [
      "Mots fréquents dans les titres :\n",
      "[('guerre', 17), ('israëlhamas', 14), ('ukraine', 13), ('conflit', 10), ('gaza', 9), ('trump', 6), ('israël', 5), ('tués', 5), ('soldats', 5), ('étatsunis', 5)]\n",
      "Mots fréquents dans les descriptions :\n",
      "[('hamas', 9), ('décryptage', 8), ('ministre', 7), ('gaza', 7), ('tsahal', 6), ('ukraine', 6), ('analyse', 5), ('premier', 5), ('armée', 5), ('président', 5)]\n"
     ]
    }
   ],
   "source": [
    "stop_words = set(stopwords.words('french'))\n",
    "titres = donnees_article['Titre'].str.lower()\n",
    "descriptions = donnees_article['Description'].str.lower()\n",
    "mots_titre = word_tokenize(' '.join(titres))\n",
    "mots_description = word_tokenize(' '.join(descriptions))\n",
    "\n",
    "# Enlever les caractères spéciaux des mots\n",
    "mots_titre = [re.sub(r'[^a-zA-ZÀ-ÿ]', '', mot) for mot in mots_titre]\n",
    "mots_description = [re.sub(r'[^a-zA-ZÀ-ÿ]', '', mot) for mot in mots_description]\n",
    "\n",
    "# Filtrer les mots vides, les stopwords et les mots à exclure\n",
    "mots_a_exclure = ['a','avoir','deux', 'selon', 'contre','vendredi','plus','depuis','ans','entre','ont', 'vos', 'aurions', 'ne', 'es', 'fussent', 'auriez', 'les', 'au', 'aurait', 'aux', 'seraient', 'samedi','récit', 'plusieurs', 'avons', 'aura', 'ayons', 'avez', 'as', 'ayants', 'mais', 'n', 'le', 'eut', 'aies', 'ses', 'aie', 'avions', 'serez', 'du', 'je', 'auront', 'eussiez', 'ta', 'étés', 'étaient', 'serai', 'avaient', 'serait', 'étiez', 'étais', 'fussiez', 'lui', 'elle', 'eûmes', 'ayant', 'seras', 'était', 'aurais', 'aurez', 'fusse', 'fussions', 'on', 'leur', 'sont', 'pas', 'ayantes', 'eue', 'fût', 'vous', 'sera', 'même', 'y', 'fûtes', 'de', 'eurent', 'eu', 'ou', 'des', 'soit', 'qu', 'il', 'moi', 'et', 'ai', 'soyons', 'ils', 'ma', 'que', 'nos', 'la', 'tes', 'ces', 'eusse', 'ait', 'se', 'ton', 'aviez', 'eussions', 'mes', 'eussent', 'pour', 'fut', 'ce', 'eûtes', 'nous', 'l', 'sommes', 'c', 't', 'un', 'ayez', 'eues', 'm', 'serions', 'seriez', 'sa', 'j', 'furent', 'avait', 's', 'en', 'd', 'serais', 'étée', 'à', 'qui', 'votre', 'aurai', 'par', 'êtes', 'eux', 'étantes', 'tu', 'sois', 'fus', 'avec', 'sur', 'eusses', 'une', 'eût', 'est', 'toi', 'soyez', 'aurons', 'me', 'étées', 'seront', 'avais', 'son', 'mon', 'étant', 'auraient', 'aient', 'été', 'étants', 'étante', 'dans', 'suis', 'notre', 'te', 'eus', 'étions', 'fûmes', 'auras', 'soient', 'fusses', 'ayante', 'serons']  # Remplacez par votre liste de mots à exclure\n",
    "mots_titre = [mot for mot in mots_titre if mot and mot not in stop_words and mot not in mots_a_exclure]\n",
    "mots_description = [mot for mot in mots_description if mot and mot not in stop_words and mot not in mots_a_exclure]\n",
    "\n",
    "# Compter les mots fréquents dans les titres\n",
    "mots_freq_titre = FreqDist(mots_titre)\n",
    "\n",
    "# Compter les mots fréquents dans les descriptions\n",
    "mots_freq_description = FreqDist(mots_description)\n",
    "\n",
    "# Afficher les mots les plus fréquents dans les titres\n",
    "print(\"Mots fréquents dans les titres :\")\n",
    "print(mots_freq_titre.most_common(10))\n",
    "\n",
    "# Afficher les mots les plus fréquents dans les descriptions\n",
    "print(\"Mots fréquents dans les descriptions :\")\n",
    "print(mots_freq_description.most_common(10))"
   ]
  },
  {
   "cell_type": "code",
   "execution_count": 54,
   "id": "c6d58c78",
   "metadata": {},
   "outputs": [
    {
     "name": "stdout",
     "output_type": "stream",
     "text": [
      "Tableau des mots fréquents avec leurs occurrences :\n",
      "          Mot  Occurrences\n",
      "0       hamas            9\n",
      "1  décryptage            8\n",
      "2    ministre            7\n",
      "3        gaza            7\n",
      "4      tsahal            6\n",
      "5     ukraine            6\n",
      "6     analyse            5\n",
      "7     premier            5\n",
      "8       armée            5\n",
      "9   président            5\n"
     ]
    }
   ],
   "source": [
    "# Obtenir les mots fréquents avec leurs occurrences\n",
    "mots_occurrences = mots_freq_description.most_common(10)\n",
    "\n",
    "# Créer un DataFrame à partir des mots fréquents avec leurs occurrences\n",
    "df = pd.DataFrame(list(mots_occurrences), columns=['Mot', 'Occurrences'])\n",
    "\n",
    "# Afficher le tableau des résultats\n",
    "print(\"Tableau des mots fréquents avec leurs occurrences :\")\n",
    "print(df)"
   ]
  },
  {
   "cell_type": "code",
   "execution_count": 55,
   "id": "9a1aa304",
   "metadata": {},
   "outputs": [
    {
     "name": "stdout",
     "output_type": "stream",
     "text": [
      "Le sujet le plus populaire concerne le : hamas\n"
     ]
    }
   ],
   "source": [
    "# Obtenir le mot le plus utilisé dans les descriptions\n",
    "mot_plus_utilise_description = mots_freq_description.most_common(1)[0][0]\n",
    "\n",
    "# Afficher le mot le plus utilisé dans les descriptions\n",
    "print(\"Le sujet le plus populaire concerne le :\", mot_plus_utilise_description)"
   ]
  },
  {
   "cell_type": "code",
   "execution_count": 60,
   "id": "d4da4348",
   "metadata": {},
   "outputs": [
    {
     "data": {
      "image/png": "[encoded data removed]",
      "text/plain": [
       "<Figure size 1152x432 with 1 Axes>"
      ]
     },
     "metadata": {
      "needs_background": "light"
     },
     "output_type": "display_data"
    }
   ],
   "source": [
    "import matplotlib.pyplot as plt\n",
    "#### Creation d'une liste de couleur à utiliser pour nos graphiques\n",
    "couleur = ['blue', 'red', 'green', 'magenta', 'indigo', 'black', 'purple']\n",
    "\n",
    "# Générer le graphique à barres\n",
    "plt.figure(figsize=(16, 6))\n",
    "plt.bar(df['Mot'], df['Occurrences'], color=couleur)\n",
    "plt.xlabel('Mot')\n",
    "plt.ylabel('Occurrences')\n",
    "plt.title('Mots les plus utilisés dans les descriptions')\n",
    "plt.show()"
   ]
  },
  {
   "cell_type": "code",
   "execution_count": null,
   "id": "78d58125",
   "metadata": {},
   "outputs": [],
   "source": []
  },
  {
   "cell_type": "markdown",
   "id": "6f976dcb",
   "metadata": {},
   "source": [
    "## EXERCICE 2 "
   ]
  },
  {
   "cell_type": "markdown",
   "id": "298b4f34",
   "metadata": {},
   "source": [
    "### Récuperation des données à partir du site web de vente"
   ]
  },
  {
   "cell_type": "code",
   "execution_count": 83,
   "id": "41426e5a",
   "metadata": {},
   "outputs": [],
   "source": [
    "## Création d'une fonction d'extraction et de pretraitement\n",
    "def extract(url_site, genre):\n",
    "    titre = []\n",
    "    prix = []\n",
    "    notes = []\n",
    "    tmp=\"\"\n",
    "    text = \"\"\n",
    "    request_text = request.urlopen(url_site).read()\n",
    "    page = bs4.BeautifulSoup(request_text, 'html.parser')\n",
    "    # Récuperation des titres des differents produits\n",
    "    for i in range (0, len(page.findAll('div', {'class': 'product-info'}))):\n",
    "        detail = page.findAll('div', {'class': 'product-info'})[i].find('a').findAll('h2')\n",
    "        for j in range(0, len(detail)):\n",
    "            for t in detail[j]:\n",
    "                text += t.get_text()\n",
    "            tmp = text + \"\"\n",
    "        text =\"\"\n",
    "        titre.append(tmp)\n",
    "        \n",
    "    # Récuperation des notes des differents produits\n",
    "    for i in range (0, len(page.findAll('dl', {'class': 'price__regular'}))):\n",
    "        detail = page.findAll('dl', {'class': 'price__regular'})[i].find('dd').findAll('span')\n",
    "        for j in range(0, len(detail)):\n",
    "            for t in detail[j]:\n",
    "                text += t.get_text()\n",
    "            tmp = text + \"\"\n",
    "        text =\"\"\n",
    "        prix.append(tmp)\n",
    "        notes.append(round(random.uniform(1, 5),1))\n",
    "    \n",
    "    #Création d'un dataframe pour chaque categorie \n",
    "    df = pd.DataFrame({'Titre':titre, 'Prix': prix, 'Notes':notes, 'Type': genre}) \n",
    "    return df"
   ]
  },
  {
   "cell_type": "code",
   "execution_count": 84,
   "id": "923198ad",
   "metadata": {},
   "outputs": [],
   "source": [
    "# Récuperation des differents type de produits\n",
    "chemise = extract(\"https://obeezi.com/collections/shirts\", \"Chemise\")\n",
    "chaussure = extract(\"https://obeezi.com/collections/shoes\", \"Chaussure\")\n",
    "polo = extract(\"https://obeezi.com/collections/polo-shirts\", \"Polo\")\n",
    "sneakers = extract(\"https://obeezi.com/collections/sneakers\", \"Sneakers\")\n",
    "jacket = extract(\"https://obeezi.com/collections/jackets\", \"Jacket\")\n",
    "jogging = extract(\"https://obeezi.com/collections/track-suits\", \"Jogging\")"
   ]
  },
  {
   "cell_type": "code",
   "execution_count": 85,
   "id": "219ff478",
   "metadata": {},
   "outputs": [
    {
     "data": {
      "text/html": [
       "<div>\n",
       "<style scoped>\n",
       "    .dataframe tbody tr th:only-of-type {\n",
       "        vertical-align: middle;\n",
       "    }\n",
       "\n",
       "    .dataframe tbody tr th {\n",
       "        vertical-align: top;\n",
       "    }\n",
       "\n",
       "    .dataframe thead th {\n",
       "        text-align: right;\n",
       "    }\n",
       "</style>\n",
       "<table border=\"1\" class=\"dataframe\">\n",
       "  <thead>\n",
       "    <tr style=\"text-align: right;\">\n",
       "      <th></th>\n",
       "      <th>Titre</th>\n",
       "      <th>Prix</th>\n",
       "      <th>Notes</th>\n",
       "      <th>Type</th>\n",
       "    </tr>\n",
       "  </thead>\n",
       "  <tbody>\n",
       "    <tr>\n",
       "      <th>0</th>\n",
       "      <td>PRL Smart Light Weight Checkboard Button Down ...</td>\n",
       "      <td>₦19,999.00\\n</td>\n",
       "      <td>3.9</td>\n",
       "      <td>Chemise</td>\n",
       "    </tr>\n",
       "    <tr>\n",
       "      <th>1</th>\n",
       "      <td>PRL Smart Light Weight Checkboard Button Down ...</td>\n",
       "      <td>₦19,999.00\\n</td>\n",
       "      <td>1.8</td>\n",
       "      <td>Chemise</td>\n",
       "    </tr>\n",
       "    <tr>\n",
       "      <th>2</th>\n",
       "      <td>PRL Smart Light Weight Checkboard Button Down ...</td>\n",
       "      <td>₦19,999.00\\n</td>\n",
       "      <td>1.9</td>\n",
       "      <td>Chemise</td>\n",
       "    </tr>\n",
       "    <tr>\n",
       "      <th>3</th>\n",
       "      <td>PRL Smart Light Weight Checkboard Button Down ...</td>\n",
       "      <td>₦19,999.00\\n</td>\n",
       "      <td>4.9</td>\n",
       "      <td>Chemise</td>\n",
       "    </tr>\n",
       "    <tr>\n",
       "      <th>4</th>\n",
       "      <td>PRL Essential Men's Custom Fit Striped Long Sl...</td>\n",
       "      <td>₦34,999.00\\n</td>\n",
       "      <td>1.1</td>\n",
       "      <td>Chemise</td>\n",
       "    </tr>\n",
       "    <tr>\n",
       "      <th>...</th>\n",
       "      <td>...</td>\n",
       "      <td>...</td>\n",
       "      <td>...</td>\n",
       "      <td>...</td>\n",
       "    </tr>\n",
       "    <tr>\n",
       "      <th>35</th>\n",
       "      <td>DS Branded Two Piece Cotton Designed Track Sui...</td>\n",
       "      <td>₦41,998.80\\n</td>\n",
       "      <td>4.2</td>\n",
       "      <td>Jogging</td>\n",
       "    </tr>\n",
       "    <tr>\n",
       "      <th>36</th>\n",
       "      <td>PP Branded Two Piece Cotton Designed Track Sui...</td>\n",
       "      <td>₦54,999.00\\n</td>\n",
       "      <td>4.2</td>\n",
       "      <td>Jogging</td>\n",
       "    </tr>\n",
       "    <tr>\n",
       "      <th>37</th>\n",
       "      <td>FD  Crested Front Side Logo Lightweight Zip  D...</td>\n",
       "      <td>₦54,999.00\\n</td>\n",
       "      <td>4.0</td>\n",
       "      <td>Jogging</td>\n",
       "    </tr>\n",
       "    <tr>\n",
       "      <th>38</th>\n",
       "      <td>PP Branded Two Piece Cotton Designed Track Sui...</td>\n",
       "      <td>₦41,998.80\\n</td>\n",
       "      <td>1.8</td>\n",
       "      <td>Jogging</td>\n",
       "    </tr>\n",
       "    <tr>\n",
       "      <th>39</th>\n",
       "      <td>Phil Logo Designed  Two Piece Cotton Designed ...</td>\n",
       "      <td>₦54,999.00\\n</td>\n",
       "      <td>2.4</td>\n",
       "      <td>Jogging</td>\n",
       "    </tr>\n",
       "  </tbody>\n",
       "</table>\n",
       "<p>225 rows × 4 columns</p>\n",
       "</div>"
      ],
      "text/plain": [
       "                                                Titre          Prix  Notes  \\\n",
       "0   PRL Smart Light Weight Checkboard Button Down ...  ₦19,999.00\\n    3.9   \n",
       "1   PRL Smart Light Weight Checkboard Button Down ...  ₦19,999.00\\n    1.8   \n",
       "2   PRL Smart Light Weight Checkboard Button Down ...  ₦19,999.00\\n    1.9   \n",
       "3   PRL Smart Light Weight Checkboard Button Down ...  ₦19,999.00\\n    4.9   \n",
       "4   PRL Essential Men's Custom Fit Striped Long Sl...  ₦34,999.00\\n    1.1   \n",
       "..                                                ...           ...    ...   \n",
       "35  DS Branded Two Piece Cotton Designed Track Sui...  ₦41,998.80\\n    4.2   \n",
       "36  PP Branded Two Piece Cotton Designed Track Sui...  ₦54,999.00\\n    4.2   \n",
       "37  FD  Crested Front Side Logo Lightweight Zip  D...  ₦54,999.00\\n    4.0   \n",
       "38  PP Branded Two Piece Cotton Designed Track Sui...  ₦41,998.80\\n    1.8   \n",
       "39  Phil Logo Designed  Two Piece Cotton Designed ...  ₦54,999.00\\n    2.4   \n",
       "\n",
       "       Type  \n",
       "0   Chemise  \n",
       "1   Chemise  \n",
       "2   Chemise  \n",
       "3   Chemise  \n",
       "4   Chemise  \n",
       "..      ...  \n",
       "35  Jogging  \n",
       "36  Jogging  \n",
       "37  Jogging  \n",
       "38  Jogging  \n",
       "39  Jogging  \n",
       "\n",
       "[225 rows x 4 columns]"
      ]
     },
     "execution_count": 85,
     "metadata": {},
     "output_type": "execute_result"
    }
   ],
   "source": [
    "# Concaténation des différents dataframe créés\n",
    "data = pd.concat([chemise, chaussure, polo, sneakers, jacket, jogging])\n",
    "data"
   ]
  },
  {
   "cell_type": "code",
   "execution_count": 86,
   "id": "5ee52c8a",
   "metadata": {},
   "outputs": [],
   "source": [
    "# Sauvegarde des données sous format csv\n",
    "data.to_csv(\"donnees_site_vente.csv\", index=False)"
   ]
  },
  {
   "cell_type": "markdown",
   "id": "6a08d5e9",
   "metadata": {},
   "source": [
    "### CHARGEMENT, UTILISATION ET NETTOYAGE DES DONNEES DU FICHIER ENREGISTRES"
   ]
  },
  {
   "cell_type": "code",
   "execution_count": 87,
   "id": "af4077f5",
   "metadata": {},
   "outputs": [
    {
     "data": {
      "text/plain": [
       "0"
      ]
     },
     "execution_count": 87,
     "metadata": {},
     "output_type": "execute_result"
    }
   ],
   "source": [
    "donnees = pd.read_csv(\"donnees_site_vente.csv\")\n",
    "donnees.duplicated().sum()"
   ]
  },
  {
   "cell_type": "code",
   "execution_count": 88,
   "id": "59d25c9f",
   "metadata": {},
   "outputs": [
    {
     "data": {
      "text/html": [
       "<div>\n",
       "<style scoped>\n",
       "    .dataframe tbody tr th:only-of-type {\n",
       "        vertical-align: middle;\n",
       "    }\n",
       "\n",
       "    .dataframe tbody tr th {\n",
       "        vertical-align: top;\n",
       "    }\n",
       "\n",
       "    .dataframe thead th {\n",
       "        text-align: right;\n",
       "    }\n",
       "</style>\n",
       "<table border=\"1\" class=\"dataframe\">\n",
       "  <thead>\n",
       "    <tr style=\"text-align: right;\">\n",
       "      <th></th>\n",
       "      <th>Titre</th>\n",
       "      <th>Prix</th>\n",
       "      <th>Notes</th>\n",
       "      <th>Type</th>\n",
       "    </tr>\n",
       "  </thead>\n",
       "  <tbody>\n",
       "    <tr>\n",
       "      <th>0</th>\n",
       "      <td>PRL Smart Light Weight Checkboard Button Down ...</td>\n",
       "      <td>19999.0</td>\n",
       "      <td>3.9</td>\n",
       "      <td>Chemise</td>\n",
       "    </tr>\n",
       "    <tr>\n",
       "      <th>1</th>\n",
       "      <td>PRL Smart Light Weight Checkboard Button Down ...</td>\n",
       "      <td>19999.0</td>\n",
       "      <td>1.8</td>\n",
       "      <td>Chemise</td>\n",
       "    </tr>\n",
       "    <tr>\n",
       "      <th>2</th>\n",
       "      <td>PRL Smart Light Weight Checkboard Button Down ...</td>\n",
       "      <td>19999.0</td>\n",
       "      <td>1.9</td>\n",
       "      <td>Chemise</td>\n",
       "    </tr>\n",
       "    <tr>\n",
       "      <th>3</th>\n",
       "      <td>PRL Smart Light Weight Checkboard Button Down ...</td>\n",
       "      <td>19999.0</td>\n",
       "      <td>4.9</td>\n",
       "      <td>Chemise</td>\n",
       "    </tr>\n",
       "    <tr>\n",
       "      <th>4</th>\n",
       "      <td>PRL Essential Men's Custom Fit Striped Long Sl...</td>\n",
       "      <td>34999.0</td>\n",
       "      <td>1.1</td>\n",
       "      <td>Chemise</td>\n",
       "    </tr>\n",
       "    <tr>\n",
       "      <th>...</th>\n",
       "      <td>...</td>\n",
       "      <td>...</td>\n",
       "      <td>...</td>\n",
       "      <td>...</td>\n",
       "    </tr>\n",
       "    <tr>\n",
       "      <th>220</th>\n",
       "      <td>DS Branded Two Piece Cotton Designed Track Sui...</td>\n",
       "      <td>41998.0</td>\n",
       "      <td>4.2</td>\n",
       "      <td>Jogging</td>\n",
       "    </tr>\n",
       "    <tr>\n",
       "      <th>221</th>\n",
       "      <td>PP Branded Two Piece Cotton Designed Track Sui...</td>\n",
       "      <td>54999.0</td>\n",
       "      <td>4.2</td>\n",
       "      <td>Jogging</td>\n",
       "    </tr>\n",
       "    <tr>\n",
       "      <th>222</th>\n",
       "      <td>FD  Crested Front Side Logo Lightweight Zip  D...</td>\n",
       "      <td>54999.0</td>\n",
       "      <td>4.0</td>\n",
       "      <td>Jogging</td>\n",
       "    </tr>\n",
       "    <tr>\n",
       "      <th>223</th>\n",
       "      <td>PP Branded Two Piece Cotton Designed Track Sui...</td>\n",
       "      <td>41998.0</td>\n",
       "      <td>1.8</td>\n",
       "      <td>Jogging</td>\n",
       "    </tr>\n",
       "    <tr>\n",
       "      <th>224</th>\n",
       "      <td>Phil Logo Designed  Two Piece Cotton Designed ...</td>\n",
       "      <td>54999.0</td>\n",
       "      <td>2.4</td>\n",
       "      <td>Jogging</td>\n",
       "    </tr>\n",
       "  </tbody>\n",
       "</table>\n",
       "<p>225 rows × 4 columns</p>\n",
       "</div>"
      ],
      "text/plain": [
       "                                                 Titre     Prix  Notes  \\\n",
       "0    PRL Smart Light Weight Checkboard Button Down ...  19999.0    3.9   \n",
       "1    PRL Smart Light Weight Checkboard Button Down ...  19999.0    1.8   \n",
       "2    PRL Smart Light Weight Checkboard Button Down ...  19999.0    1.9   \n",
       "3    PRL Smart Light Weight Checkboard Button Down ...  19999.0    4.9   \n",
       "4    PRL Essential Men's Custom Fit Striped Long Sl...  34999.0    1.1   \n",
       "..                                                 ...      ...    ...   \n",
       "220  DS Branded Two Piece Cotton Designed Track Sui...  41998.0    4.2   \n",
       "221  PP Branded Two Piece Cotton Designed Track Sui...  54999.0    4.2   \n",
       "222  FD  Crested Front Side Logo Lightweight Zip  D...  54999.0    4.0   \n",
       "223  PP Branded Two Piece Cotton Designed Track Sui...  41998.0    1.8   \n",
       "224  Phil Logo Designed  Two Piece Cotton Designed ...  54999.0    2.4   \n",
       "\n",
       "        Type  \n",
       "0    Chemise  \n",
       "1    Chemise  \n",
       "2    Chemise  \n",
       "3    Chemise  \n",
       "4    Chemise  \n",
       "..       ...  \n",
       "220  Jogging  \n",
       "221  Jogging  \n",
       "222  Jogging  \n",
       "223  Jogging  \n",
       "224  Jogging  \n",
       "\n",
       "[225 rows x 4 columns]"
      ]
     },
     "execution_count": 88,
     "metadata": {},
     "output_type": "execute_result"
    }
   ],
   "source": [
    "# Formatage du type de donnees\n",
    "donnees['Prix'] = donnees['Prix'].str.replace('.00\\n', '')\n",
    "donnees['Prix'] = donnees['Prix'].str.replace('.80\\n', '')\n",
    "donnees['Prix'] = donnees['Prix'].str.replace('.99\\n', '')\n",
    "donnees['Prix'] = donnees['Prix'].str.replace(',', '')\n",
    "donnees['Prix'] = donnees['Prix'].str.replace('₦', '')\n",
    "\n",
    "donnees = donnees.astype({'Prix' : float})\n",
    "donnees"
   ]
  },
  {
   "cell_type": "code",
   "execution_count": 89,
   "id": "151f8227",
   "metadata": {},
   "outputs": [
    {
     "name": "stdout",
     "output_type": "stream",
     "text": [
      "Produit le moins cher: England Home Jersey 2022 ( Jogging ) - Prix: 14999.0\n",
      "Produit le plus cher: NK Max 720 Breathable Sneakers- Black Red ( Sneakers ) - Prix: 64999.0\n"
     ]
    }
   ],
   "source": [
    "# Afficher les produits les moins cheres\n",
    "# Effectuons d'abord un tri du dataframe par ordre croissant de prix\n",
    "donnees = donnees.sort_values('Prix')\n",
    "\n",
    "# Produit le moins cher\n",
    "cat_produit_moins_cher = donnees.iloc[0]['Type']\n",
    "produit_moins_cher = donnees.iloc[0]['Titre']\n",
    "prix_moins_cher = donnees.iloc[0]['Prix']\n",
    "\n",
    "# Produit le plus cher\n",
    "cat_produit_plus_cher = donnees.iloc[-1]['Type']\n",
    "produit_plus_cher = donnees.iloc[-1]['Titre']\n",
    "prix_plus_cher = donnees.iloc[-1]['Prix']\n",
    "\n",
    "# Affichage des résultats\n",
    "print(\"Produit le moins cher:\", produit_moins_cher, \"(\", cat_produit_moins_cher,\")\", \"- Prix:\", prix_moins_cher)\n",
    "print(\"Produit le plus cher:\", produit_plus_cher, \"(\", cat_produit_plus_cher,\")\", \"- Prix:\", prix_plus_cher)"
   ]
  },
  {
   "cell_type": "code",
   "execution_count": 90,
   "id": "e5e99cb9",
   "metadata": {},
   "outputs": [
    {
     "name": "stdout",
     "output_type": "stream",
     "text": [
      "Moyenne des prix: 42284.26666666667\n",
      "Médiane des prix: 39999.0\n"
     ]
    }
   ],
   "source": [
    "# Calcul de la moyenne des prix\n",
    "moyenne = donnees['Prix'].mean()\n",
    "\n",
    "# Calcul de la médiane des prix\n",
    "mediane = donnees['Prix'].median()\n",
    "\n",
    "# Affichage des résultats\n",
    "print(\"Moyenne des prix:\", moyenne)\n",
    "print(\"Médiane des prix:\", mediane)"
   ]
  },
  {
   "cell_type": "code",
   "execution_count": 91,
   "id": "022d7374",
   "metadata": {},
   "outputs": [
    {
     "data": {
      "text/plain": [
       "Type\n",
       "Chaussure    3.06\n",
       "Chemise      3.07\n",
       "Jacket       3.28\n",
       "Jogging      3.34\n",
       "Polo         2.81\n",
       "Sneakers     3.13\n",
       "Name: Notes, dtype: float64"
      ]
     },
     "execution_count": 91,
     "metadata": {},
     "output_type": "execute_result"
    }
   ],
   "source": [
    "# Examinons les notes moyennes des produits\n",
    "moy_note = round(donnees.groupby('Type')['Notes'].mean(),2)\n",
    "moy_note"
   ]
  },
  {
   "cell_type": "code",
   "execution_count": 92,
   "id": "4df86d85",
   "metadata": {},
   "outputs": [
    {
     "data": {
      "image/png": "[encoded data removed]",
      "text/plain": [
       "<Figure size 1080x432 with 2 Axes>"
      ]
     },
     "metadata": {
      "needs_background": "light"
     },
     "output_type": "display_data"
    }
   ],
   "source": [
    "# Calcul des détails du prix\n",
    "prix_min = donnees['Prix'].min()\n",
    "prix_max = donnees['Prix'].max()\n",
    "\n",
    "#### Creation d'une liste de couleur à utiliser pour nos graphiques\n",
    "couleur = ['blue', 'red', 'green', 'magenta', 'indigo', 'black']\n",
    "\n",
    "# Tracer le graphique du detail du prix des produits\n",
    "plt.figure(figsize=(15, 6))\n",
    "plt.subplot(1,2,1)\n",
    "plt.bar(['Moyenne', 'Médiane', 'Minimum', 'Maximum'], [moyenne, mediane, prix_min, prix_max], color=couleur)\n",
    "plt.xlabel('Détails du Prix')\n",
    "plt.ylabel('Prix')\n",
    "plt.title('Détails du Prix des Produits')\n",
    "\n",
    "# Tracer pour mieux etudier les notes des produits\n",
    "plt.subplot(1,2,2)\n",
    "plt.bar(donnees['Type'].unique(), moy_note, color=couleur)\n",
    "plt.xlabel('Type de produit')\n",
    "plt.ylabel('Note moyenne')\n",
    "plt.title('Notes moyennes des produits')\n",
    "\n",
    "plt.show()"
   ]
  },
  {
   "cell_type": "code",
   "execution_count": null,
   "id": "28e0225e",
   "metadata": {},
   "outputs": [],
   "source": []
  },
  {
   "cell_type": "code",
   "execution_count": null,
   "id": "111b507f",
   "metadata": {},
   "outputs": [],
   "source": []
  }
 ],
 "metadata": {
  "kernelspec": {
   "display_name": "Python 3 (ipykernel)",
   "language": "python",
   "name": "python3"
  },
  "language_info": {
   "codemirror_mode": {
    "name": "ipython",
    "version": 3
   },
   "file_extension": ".py",
   "mimetype": "text/x-python",
   "name": "python",
   "nbconvert_exporter": "python",
   "pygments_lexer": "ipython3",
   "version": "3.9.12"
  }
 },
 "nbformat": 4,
 "nbformat_minor": 5
}
